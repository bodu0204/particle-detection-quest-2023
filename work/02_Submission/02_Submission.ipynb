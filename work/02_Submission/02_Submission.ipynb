{
 "cells": [
  {
   "cell_type": "markdown",
   "id": "a3095fde",
   "metadata": {
    "editable": true,
    "slideshow": {
     "slide_type": ""
    },
    "tags": []
   },
   "source": [
    "# 評価方法\n",
    "\n",
    "分類されていないデータを認識し、どれだけ正しくカテゴリごとに分類できるかを算出した「平均精度」の高さを競い合います。\n",
    "\n",
    "今回、活用するデータはLSWMD_25519となります。\n",
    "LSWMD_25519のFailureType項目が分類されていない状態のデータに対し、正しいFailureTypeカテゴリを分類するプログラムを作成し、その平均精度を算出します。\n",
    "平均精度とは、カテゴリごとに正しく分類できる精度を平均した値です。カテゴリごとに算出した精度（Aが正しく分類された数/Aのデータ数）を足し、カテゴリ数で割ります。\n",
    "\n",
    "公平な評価を実施するために、以下の制限を設けています。\n",
    "1. 外部パッケージをインストールするためのセルとsolution関数の中身のみを編集すること\n",
    "2. 校舎のiMac上で最後のセルの実行時間が15分未満であること　（%%timeitの出力結果を確認してください）\n",
    "\n",
    "※気になる点がある場合、Discordで気軽にお問合せください。"
   ]
  },
  {
   "cell_type": "code",
   "execution_count": 1,
   "id": "c8b0f68e",
   "metadata": {
    "deletable": false,
    "editable": false,
    "slideshow": {
     "slide_type": ""
    },
    "tags": []
   },
   "outputs": [],
   "source": [
    "import numpy as np # https://numpy.org/ja/\n",
    "import pandas as pd # https://pandas.pydata.org/\n",
    "from sklearn.model_selection import train_test_split"
   ]
  },
  {
   "cell_type": "markdown",
   "id": "3ea86471-32fa-46c6-a005-ad6e1f7b7f72",
   "metadata": {
    "editable": true,
    "slideshow": {
     "slide_type": ""
    },
    "tags": []
   },
   "source": [
    "外部パッケージを使用する場合、以下の方法でインストールを実施してください。"
   ]
  },
  {
   "cell_type": "code",
   "execution_count": 2,
   "id": "6be8d1cd-7df7-4b10-aa1a-e24677b50d78",
   "metadata": {
    "editable": true,
    "slideshow": {
     "slide_type": ""
    },
    "tags": []
   },
   "outputs": [
    {
     "name": "stdout",
     "output_type": "stream",
     "text": [
      "\u001b[33mWARNING: The directory '/home/jovyan/.cache/pip' or its parent directory is not owned or is not writable by the current user. The cache has been disabled. Check the permissions and owner of that directory. If executing pip with sudo, you should use sudo's -H flag.\u001b[0m\u001b[33m\n",
      "\u001b[0mRequirement already satisfied: tensorflow in /opt/conda/lib/python3.11/site-packages (2.14.0)\n",
      "Requirement already satisfied: tensorflow-cpu-aws==2.14.0 in /opt/conda/lib/python3.11/site-packages (from tensorflow) (2.14.0)\n",
      "Requirement already satisfied: absl-py>=1.0.0 in /opt/conda/lib/python3.11/site-packages (from tensorflow-cpu-aws==2.14.0->tensorflow) (2.0.0)\n",
      "Requirement already satisfied: astunparse>=1.6.0 in /opt/conda/lib/python3.11/site-packages (from tensorflow-cpu-aws==2.14.0->tensorflow) (1.6.3)\n",
      "Requirement already satisfied: flatbuffers>=23.5.26 in /opt/conda/lib/python3.11/site-packages (from tensorflow-cpu-aws==2.14.0->tensorflow) (23.5.26)\n",
      "Requirement already satisfied: gast!=0.5.0,!=0.5.1,!=0.5.2,>=0.2.1 in /opt/conda/lib/python3.11/site-packages (from tensorflow-cpu-aws==2.14.0->tensorflow) (0.5.4)\n",
      "Requirement already satisfied: google-pasta>=0.1.1 in /opt/conda/lib/python3.11/site-packages (from tensorflow-cpu-aws==2.14.0->tensorflow) (0.2.0)\n",
      "Requirement already satisfied: h5py>=2.9.0 in /opt/conda/lib/python3.11/site-packages (from tensorflow-cpu-aws==2.14.0->tensorflow) (3.10.0)\n",
      "Requirement already satisfied: libclang>=13.0.0 in /opt/conda/lib/python3.11/site-packages (from tensorflow-cpu-aws==2.14.0->tensorflow) (16.0.6)\n",
      "Requirement already satisfied: ml-dtypes==0.2.0 in /opt/conda/lib/python3.11/site-packages (from tensorflow-cpu-aws==2.14.0->tensorflow) (0.2.0)\n",
      "Requirement already satisfied: numpy>=1.23.5 in /opt/conda/lib/python3.11/site-packages (from tensorflow-cpu-aws==2.14.0->tensorflow) (1.24.4)\n",
      "Requirement already satisfied: opt-einsum>=2.3.2 in /opt/conda/lib/python3.11/site-packages (from tensorflow-cpu-aws==2.14.0->tensorflow) (3.3.0)\n",
      "Requirement already satisfied: packaging in /opt/conda/lib/python3.11/site-packages (from tensorflow-cpu-aws==2.14.0->tensorflow) (23.2)\n",
      "Requirement already satisfied: protobuf!=4.21.0,!=4.21.1,!=4.21.2,!=4.21.3,!=4.21.4,!=4.21.5,<5.0.0dev,>=3.20.3 in /opt/conda/lib/python3.11/site-packages (from tensorflow-cpu-aws==2.14.0->tensorflow) (4.24.3)\n",
      "Requirement already satisfied: setuptools in /opt/conda/lib/python3.11/site-packages (from tensorflow-cpu-aws==2.14.0->tensorflow) (68.2.2)\n",
      "Requirement already satisfied: six>=1.12.0 in /opt/conda/lib/python3.11/site-packages (from tensorflow-cpu-aws==2.14.0->tensorflow) (1.16.0)\n",
      "Requirement already satisfied: termcolor>=1.1.0 in /opt/conda/lib/python3.11/site-packages (from tensorflow-cpu-aws==2.14.0->tensorflow) (2.3.0)\n",
      "Requirement already satisfied: typing-extensions>=3.6.6 in /opt/conda/lib/python3.11/site-packages (from tensorflow-cpu-aws==2.14.0->tensorflow) (4.8.0)\n",
      "Requirement already satisfied: wrapt<1.15,>=1.11.0 in /opt/conda/lib/python3.11/site-packages (from tensorflow-cpu-aws==2.14.0->tensorflow) (1.14.1)\n",
      "Requirement already satisfied: tensorflow-io-gcs-filesystem>=0.23.1 in /opt/conda/lib/python3.11/site-packages (from tensorflow-cpu-aws==2.14.0->tensorflow) (0.34.0)\n",
      "Requirement already satisfied: grpcio<2.0,>=1.24.3 in /opt/conda/lib/python3.11/site-packages (from tensorflow-cpu-aws==2.14.0->tensorflow) (1.59.2)\n",
      "Requirement already satisfied: tensorboard<2.15,>=2.14 in /opt/conda/lib/python3.11/site-packages (from tensorflow-cpu-aws==2.14.0->tensorflow) (2.14.1)\n",
      "Requirement already satisfied: tensorflow-estimator<2.15,>=2.14.0 in /opt/conda/lib/python3.11/site-packages (from tensorflow-cpu-aws==2.14.0->tensorflow) (2.14.0)\n",
      "Requirement already satisfied: keras<2.15,>=2.14.0 in /opt/conda/lib/python3.11/site-packages (from tensorflow-cpu-aws==2.14.0->tensorflow) (2.14.0)\n",
      "Requirement already satisfied: wheel<1.0,>=0.23.0 in /opt/conda/lib/python3.11/site-packages (from astunparse>=1.6.0->tensorflow-cpu-aws==2.14.0->tensorflow) (0.41.2)\n",
      "Requirement already satisfied: google-auth<3,>=1.6.3 in /opt/conda/lib/python3.11/site-packages (from tensorboard<2.15,>=2.14->tensorflow-cpu-aws==2.14.0->tensorflow) (2.23.4)\n",
      "Requirement already satisfied: google-auth-oauthlib<1.1,>=0.5 in /opt/conda/lib/python3.11/site-packages (from tensorboard<2.15,>=2.14->tensorflow-cpu-aws==2.14.0->tensorflow) (1.0.0)\n",
      "Requirement already satisfied: markdown>=2.6.8 in /opt/conda/lib/python3.11/site-packages (from tensorboard<2.15,>=2.14->tensorflow-cpu-aws==2.14.0->tensorflow) (3.5.1)\n",
      "Requirement already satisfied: requests<3,>=2.21.0 in /opt/conda/lib/python3.11/site-packages (from tensorboard<2.15,>=2.14->tensorflow-cpu-aws==2.14.0->tensorflow) (2.31.0)\n",
      "Requirement already satisfied: tensorboard-data-server<0.8.0,>=0.7.0 in /opt/conda/lib/python3.11/site-packages (from tensorboard<2.15,>=2.14->tensorflow-cpu-aws==2.14.0->tensorflow) (0.7.2)\n",
      "Requirement already satisfied: werkzeug>=1.0.1 in /opt/conda/lib/python3.11/site-packages (from tensorboard<2.15,>=2.14->tensorflow-cpu-aws==2.14.0->tensorflow) (3.0.1)\n",
      "Requirement already satisfied: cachetools<6.0,>=2.0.0 in /opt/conda/lib/python3.11/site-packages (from google-auth<3,>=1.6.3->tensorboard<2.15,>=2.14->tensorflow-cpu-aws==2.14.0->tensorflow) (5.3.2)\n",
      "Requirement already satisfied: pyasn1-modules>=0.2.1 in /opt/conda/lib/python3.11/site-packages (from google-auth<3,>=1.6.3->tensorboard<2.15,>=2.14->tensorflow-cpu-aws==2.14.0->tensorflow) (0.3.0)\n",
      "Requirement already satisfied: rsa<5,>=3.1.4 in /opt/conda/lib/python3.11/site-packages (from google-auth<3,>=1.6.3->tensorboard<2.15,>=2.14->tensorflow-cpu-aws==2.14.0->tensorflow) (4.9)\n",
      "Requirement already satisfied: requests-oauthlib>=0.7.0 in /opt/conda/lib/python3.11/site-packages (from google-auth-oauthlib<1.1,>=0.5->tensorboard<2.15,>=2.14->tensorflow-cpu-aws==2.14.0->tensorflow) (1.3.1)\n",
      "Requirement already satisfied: charset-normalizer<4,>=2 in /opt/conda/lib/python3.11/site-packages (from requests<3,>=2.21.0->tensorboard<2.15,>=2.14->tensorflow-cpu-aws==2.14.0->tensorflow) (3.3.0)\n",
      "Requirement already satisfied: idna<4,>=2.5 in /opt/conda/lib/python3.11/site-packages (from requests<3,>=2.21.0->tensorboard<2.15,>=2.14->tensorflow-cpu-aws==2.14.0->tensorflow) (3.4)\n",
      "Requirement already satisfied: urllib3<3,>=1.21.1 in /opt/conda/lib/python3.11/site-packages (from requests<3,>=2.21.0->tensorboard<2.15,>=2.14->tensorflow-cpu-aws==2.14.0->tensorflow) (2.0.7)\n",
      "Requirement already satisfied: certifi>=2017.4.17 in /opt/conda/lib/python3.11/site-packages (from requests<3,>=2.21.0->tensorboard<2.15,>=2.14->tensorflow-cpu-aws==2.14.0->tensorflow) (2023.7.22)\n",
      "Requirement already satisfied: MarkupSafe>=2.1.1 in /opt/conda/lib/python3.11/site-packages (from werkzeug>=1.0.1->tensorboard<2.15,>=2.14->tensorflow-cpu-aws==2.14.0->tensorflow) (2.1.3)\n",
      "Requirement already satisfied: pyasn1<0.6.0,>=0.4.6 in /opt/conda/lib/python3.11/site-packages (from pyasn1-modules>=0.2.1->google-auth<3,>=1.6.3->tensorboard<2.15,>=2.14->tensorflow-cpu-aws==2.14.0->tensorflow) (0.5.0)\n",
      "Requirement already satisfied: oauthlib>=3.0.0 in /opt/conda/lib/python3.11/site-packages (from requests-oauthlib>=0.7.0->google-auth-oauthlib<1.1,>=0.5->tensorboard<2.15,>=2.14->tensorflow-cpu-aws==2.14.0->tensorflow) (3.2.2)\n",
      "\u001b[33mWARNING: Running pip as the 'root' user can result in broken permissions and conflicting behaviour with the system package manager. It is recommended to use a virtual environment instead: https://pip.pypa.io/warnings/venv\u001b[0m\u001b[33m\n",
      "\u001b[0m\u001b[33mWARNING: The directory '/home/jovyan/.cache/pip' or its parent directory is not owned or is not writable by the current user. The cache has been disabled. Check the permissions and owner of that directory. If executing pip with sudo, you should use sudo's -H flag.\u001b[0m\u001b[33m\n",
      "\u001b[0mRequirement already satisfied: Pillow in /opt/conda/lib/python3.11/site-packages (10.1.0)\n",
      "\u001b[33mWARNING: Running pip as the 'root' user can result in broken permissions and conflicting behaviour with the system package manager. It is recommended to use a virtual environment instead: https://pip.pypa.io/warnings/venv\u001b[0m\u001b[33m\n",
      "\u001b[0m"
     ]
    }
   ],
   "source": [
    "# 必要な外部パッケージは、以下の内容を編集しインストールしてください\n",
    "# !pip install keras\n",
    "# !pip install tensorflow[and-cuda]\n",
    "!pip install tensorflow\n",
    "!pip install Pillow"
   ]
  },
  {
   "cell_type": "markdown",
   "id": "a113ea05-433a-4c82-9cb1-2c8f834a0364",
   "metadata": {
    "editable": true,
    "slideshow": {
     "slide_type": ""
    },
    "tags": []
   },
   "source": [
    "以下のsolution関数のみ編集してください。"
   ]
  },
  {
   "cell_type": "code",
   "execution_count": 3,
   "id": "cda6ad7e-8e26-4208-bdbd-3fa37e79c82c",
   "metadata": {
    "editable": true,
    "slideshow": {
     "slide_type": ""
    },
    "tags": []
   },
   "outputs": [],
   "source": [
    "\n",
    "def show_img(image):\n",
    "    import matplotlib.pyplot as plt\n",
    "    import numpy as np\n",
    "    plt.figure()\n",
    "    plt.imshow(image)\n",
    "    plt.colorbar()\n",
    "    plt.grid(False)\n",
    "    plt.show()\n",
    "\n",
    "def solution(x_test_df, train_df):\n",
    "    import tensorflow as tf\n",
    "    import numpy as np\n",
    "    from PIL import Image\n",
    "\n",
    "    failure_types = list(train_df['failureType'].unique())\n",
    "    # 大きさを統一\n",
    "    normalized_train_maps = np.array([np.asarray(Image.fromarray(x).resize((64,64))) for x in train_df['waferMap'] / 2.0])\n",
    "    train_labels = np.array([failure_types.index(x) for x in train_df['failureType']])\n",
    "    show_img(normalized_train_maps[0])\n",
    "\n",
    "    model = tf.keras.Sequential([\n",
    "    tf.keras.layers.Flatten(input_shape=(64, 64)),\n",
    "    tf.keras.layers.Dense(256, activation='relu'),\n",
    "    tf.keras.layers.Dense(128, activation='relu'),\n",
    "    tf.keras.layers.Dense(64, activation='relu'),\n",
    "    tf.keras.layers.Dense(len(failure_types))\n",
    "    ])\n",
    "    model.compile(optimizer='adam',\n",
    "              loss=tf.keras.losses.SparseCategoricalCrossentropy(from_logits=True),\n",
    "              metrics=['accuracy'])\n",
    "    model.fit(normalized_train_maps, train_labels, epochs=10)\n",
    "    model.fit(np.rot90(normalized_train_maps, k=1, axes=(1, 2)), train_labels, epochs=10)\n",
    "    model.fit(np.rot90(normalized_train_maps, k=2, axes=(1, 2)), train_labels, epochs=10)\n",
    "    model.fit(np.rot90(normalized_train_maps, k=3, axes=(1, 2)), train_labels, epochs=10)\n",
    "    probability_model = tf.keras.Sequential([model, \n",
    "                                         tf.keras.layers.Softmax()])\n",
    "    normalized_test_maps = np.array([np.asarray(Image.fromarray(x).resize((64,64))) for x in x_test_df['waferMap'] / 2.0])\n",
    "    test_index = [x for x in x_test_df['waferIndex']]\n",
    "    predictions = probability_model.predict(normalized_test_maps)\n",
    "    answer = [failure_types[x.argmax()] for x in predictions]\n",
    "    return pd.DataFrame({'failureType': answer}, index=x_test_df.index)\n"
   ]
  },
  {
   "cell_type": "markdown",
   "id": "c70c20f4-f775-4d9d-90c7-a3b583584edd",
   "metadata": {
    "editable": true,
    "slideshow": {
     "slide_type": ""
    },
    "tags": []
   },
   "source": [
    "solution関数は以下のように活用され、平均精度を計算します。"
   ]
  },
  {
   "cell_type": "code",
   "execution_count": 4,
   "id": "04a31dda-7c8b-477e-9547-5c9db739f7f0",
   "metadata": {
    "deletable": false,
    "slideshow": {
     "slide_type": ""
    },
    "tags": []
   },
   "outputs": [
    {
     "data": {
      "image/png": "[encoded data removed]",
      "text/plain": [
       "<Figure size 640x480 with 2 Axes>"
      ]
     },
     "metadata": {},
     "output_type": "display_data"
    },
    {
     "name": "stdout",
     "output_type": "stream",
     "text": [
      "Epoch 1/10\n"
     ]
    },
    {
     "name": "stderr",
     "output_type": "stream",
     "text": [
      "2023-11-11 16:51:26.686839: W tensorflow/tsl/framework/cpu_allocator_impl.cc:83] Allocation of 376291328 exceeds 10% of free system memory.\n"
     ]
    },
    {
     "name": "stdout",
     "output_type": "stream",
     "text": [
      "718/718 [==============================] - 6s 7ms/step - loss: 0.8063 - accuracy: 0.7168\n",
      "Epoch 2/10\n",
      "718/718 [==============================] - 5s 7ms/step - loss: 0.6103 - accuracy: 0.7806\n",
      "Epoch 3/10\n",
      "718/718 [==============================] - 6s 8ms/step - loss: 0.5494 - accuracy: 0.8023\n",
      "Epoch 4/10\n",
      "718/718 [==============================] - 6s 8ms/step - loss: 0.5154 - accuracy: 0.8136\n",
      "Epoch 5/10\n",
      "718/718 [==============================] - 5s 7ms/step - loss: 0.4948 - accuracy: 0.8193\n",
      "Epoch 6/10\n",
      "718/718 [==============================] - 5s 7ms/step - loss: 0.4738 - accuracy: 0.8242\n",
      "Epoch 7/10\n",
      "718/718 [==============================] - 5s 7ms/step - loss: 0.4561 - accuracy: 0.8278\n",
      "Epoch 8/10\n",
      "718/718 [==============================] - 4s 5ms/step - loss: 0.4340 - accuracy: 0.8375\n",
      "Epoch 9/10\n",
      "718/718 [==============================] - 4s 5ms/step - loss: 0.4250 - accuracy: 0.8391\n",
      "Epoch 10/10\n",
      "718/718 [==============================] - 4s 5ms/step - loss: 0.4087 - accuracy: 0.8438\n",
      "Epoch 1/10\n",
      " 15/718 [..............................] - ETA: 5s - loss: 0.6395 - accuracy: 0.7792"
     ]
    },
    {
     "name": "stderr",
     "output_type": "stream",
     "text": [
      "2023-11-11 16:52:15.440473: W tensorflow/tsl/framework/cpu_allocator_impl.cc:83] Allocation of 376291328 exceeds 10% of free system memory.\n"
     ]
    },
    {
     "name": "stdout",
     "output_type": "stream",
     "text": [
      "718/718 [==============================] - 4s 5ms/step - loss: 0.5280 - accuracy: 0.8041\n",
      "Epoch 2/10\n",
      "718/718 [==============================] - 4s 5ms/step - loss: 0.4658 - accuracy: 0.8230\n",
      "Epoch 3/10\n",
      "718/718 [==============================] - 4s 5ms/step - loss: 0.4329 - accuracy: 0.8353\n",
      "Epoch 4/10\n",
      "718/718 [==============================] - 4s 5ms/step - loss: 0.4145 - accuracy: 0.8412\n",
      "Epoch 5/10\n",
      "718/718 [==============================] - 4s 5ms/step - loss: 0.4072 - accuracy: 0.8458\n",
      "Epoch 6/10\n",
      "718/718 [==============================] - 4s 5ms/step - loss: 0.3882 - accuracy: 0.8494\n",
      "Epoch 7/10\n",
      "718/718 [==============================] - 4s 5ms/step - loss: 0.3849 - accuracy: 0.8513\n",
      "Epoch 8/10\n",
      "718/718 [==============================] - 4s 5ms/step - loss: 0.3606 - accuracy: 0.8611\n",
      "Epoch 9/10\n",
      "718/718 [==============================] - 4s 5ms/step - loss: 0.3633 - accuracy: 0.8591\n",
      "Epoch 10/10\n",
      "718/718 [==============================] - 4s 6ms/step - loss: 0.3390 - accuracy: 0.8675\n",
      "Epoch 1/10\n",
      " 12/718 [..............................] - ETA: 7s - loss: 0.6565 - accuracy: 0.7630 "
     ]
    },
    {
     "name": "stderr",
     "output_type": "stream",
     "text": [
      "2023-11-11 16:52:53.889801: W tensorflow/tsl/framework/cpu_allocator_impl.cc:83] Allocation of 376291328 exceeds 10% of free system memory.\n"
     ]
    },
    {
     "name": "stdout",
     "output_type": "stream",
     "text": [
      "718/718 [==============================] - 4s 5ms/step - loss: 0.4482 - accuracy: 0.8266\n",
      "Epoch 2/10\n",
      "718/718 [==============================] - 4s 5ms/step - loss: 0.3977 - accuracy: 0.8453\n",
      "Epoch 3/10\n",
      "718/718 [==============================] - 4s 5ms/step - loss: 0.3724 - accuracy: 0.8535\n",
      "Epoch 4/10\n",
      "718/718 [==============================] - 4s 5ms/step - loss: 0.3652 - accuracy: 0.8600\n",
      "Epoch 5/10\n",
      "718/718 [==============================] - 4s 5ms/step - loss: 0.3590 - accuracy: 0.8588\n",
      "Epoch 6/10\n",
      "718/718 [==============================] - 4s 5ms/step - loss: 0.3430 - accuracy: 0.8660\n",
      "Epoch 7/10\n",
      "718/718 [==============================] - 4s 6ms/step - loss: 0.3369 - accuracy: 0.8684\n",
      "Epoch 8/10\n",
      "718/718 [==============================] - 4s 6ms/step - loss: 0.3307 - accuracy: 0.8692\n",
      "Epoch 9/10\n",
      "718/718 [==============================] - 4s 5ms/step - loss: 0.3184 - accuracy: 0.8757\n",
      "Epoch 10/10\n",
      "718/718 [==============================] - 4s 5ms/step - loss: 0.3178 - accuracy: 0.8743\n",
      "Epoch 1/10\n",
      "  1/718 [..............................] - ETA: 21s - loss: 0.8039 - accuracy: 0.8438"
     ]
    },
    {
     "name": "stderr",
     "output_type": "stream",
     "text": [
      "2023-11-11 16:53:32.980393: W tensorflow/tsl/framework/cpu_allocator_impl.cc:83] Allocation of 376291328 exceeds 10% of free system memory.\n"
     ]
    },
    {
     "name": "stdout",
     "output_type": "stream",
     "text": [
      "718/718 [==============================] - 4s 6ms/step - loss: 0.4179 - accuracy: 0.8362\n",
      "Epoch 2/10\n",
      "718/718 [==============================] - 4s 6ms/step - loss: 0.3770 - accuracy: 0.8520\n",
      "Epoch 3/10\n",
      "718/718 [==============================] - 4s 6ms/step - loss: 0.3561 - accuracy: 0.8584\n",
      "Epoch 4/10\n",
      "718/718 [==============================] - 4s 5ms/step - loss: 0.3463 - accuracy: 0.8626\n",
      "Epoch 5/10\n",
      "718/718 [==============================] - 4s 6ms/step - loss: 0.3357 - accuracy: 0.8652\n",
      "Epoch 6/10\n",
      "718/718 [==============================] - 4s 6ms/step - loss: 0.3305 - accuracy: 0.8693\n",
      "Epoch 7/10\n",
      "718/718 [==============================] - 4s 6ms/step - loss: 0.3239 - accuracy: 0.8706\n",
      "Epoch 8/10\n",
      "718/718 [==============================] - 4s 5ms/step - loss: 0.3096 - accuracy: 0.8770\n",
      "Epoch 9/10\n",
      "718/718 [==============================] - 4s 5ms/step - loss: 0.3092 - accuracy: 0.8776\n",
      "Epoch 10/10\n",
      "718/718 [==============================] - 4s 5ms/step - loss: 0.3011 - accuracy: 0.8772\n",
      "80/80 [==============================] - 0s 2ms/step\n",
      "平均精度：71.77%\n",
      "2min 52s ± 0 ns per loop (mean ± std. dev. of 1 run, 1 loop each)\n"
     ]
    }
   ],
   "source": [
    "%%timeit -r 1 -n 1\n",
    "\n",
    "# データのインポート\n",
    "df=pd.read_pickle(\"../input/LSWMD_25519.pkl\")\n",
    "\n",
    "# テスト用と学習用のデータを作成（テストする際は、random_stateの値などを編集してみてください）\n",
    "train_df, test_df = train_test_split(df, stratify=df['failureType'], test_size=0.10, random_state=42)\n",
    "\n",
    "y_test_df = test_df[['failureType']]\n",
    "x_test_df = test_df.drop(columns=['failureType'])\n",
    "\n",
    "# solution関数を実行\n",
    "user_result_df = solution(x_test_df, train_df)\n",
    "\n",
    "average_accuracy = 0\n",
    "# ユーザーの提出物のフォーマット確認\n",
    "if type(y_test_df) == type(user_result_df) and y_test_df.shape == user_result_df.shape:\n",
    "    # 平均精度の計算\n",
    "    accuracies = {}\n",
    "    for failure_type in df['failureType'].unique():\n",
    "        y_test_df_by_failure_type = y_test_df[y_test_df['failureType'] == failure_type]\n",
    "        user_result_df_by_failure_type = user_result_df[y_test_df['failureType'] == failure_type]\n",
    "        matching_rows = (y_test_df_by_failure_type == user_result_df_by_failure_type).all(axis=1).sum()\n",
    "        accuracies[failure_type] = (matching_rows/(len(y_test_df_by_failure_type)))\n",
    "    \n",
    "    average_accuracy = sum(accuracies.values())/len(accuracies)\n",
    "\n",
    "print(f\"平均精度：{average_accuracy*100:.2f}%\")"
   ]
  }
 ],
 "metadata": {
  "kernelspec": {
   "display_name": "Python 3 (ipykernel)",
   "language": "python",
   "name": "python3"
  },
  "language_info": {
   "codemirror_mode": {
    "name": "ipython",
    "version": 3
   },
   "file_extension": ".py",
   "mimetype": "text/x-python",
   "name": "python",
   "nbconvert_exporter": "python",
   "pygments_lexer": "ipython3",
   "version": "3.11.6"
  }
 },
 "nbformat": 4,
 "nbformat_minor": 5
}
