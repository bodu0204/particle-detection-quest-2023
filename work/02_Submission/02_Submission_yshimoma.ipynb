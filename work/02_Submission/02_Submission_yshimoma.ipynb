{
 "cells": [
  {
   "cell_type": "markdown",
   "id": "a3095fde",
   "metadata": {
    "editable": true,
    "slideshow": {
     "slide_type": ""
    },
    "tags": []
   },
   "source": [
    "# 評価方法\n",
    "\n",
    "分類されていないデータを認識し、どれだけ正しくカテゴリごとに分類できるかを算出した「平均精度」の高さを競い合います。\n",
    "\n",
    "今回、活用するデータはLSWMD_25519となります。\n",
    "LSWMD_25519のFailureType項目が分類されていない状態のデータに対し、正しいFailureTypeカテゴリを分類するプログラムを作成し、その平均精度を算出します。\n",
    "平均精度とは、カテゴリごとに正しく分類できる精度を平均した値です。カテゴリごとに算出した精度（Aが正しく分類された数/Aのデータ数）を足し、カテゴリ数で割ります。\n",
    "\n",
    "公平な評価を実施するために、以下の制限を設けています。\n",
    "1. 外部パッケージをインストールするためのセルとsolution関数の中身のみを編集すること\n",
    "2. 校舎のiMac上で最後のセルの実行時間が15分未満であること　（%%timeitの出力結果を確認してください）\n",
    "\n",
    "※気になる点がある場合、Discordで気軽にお問合せください。"
   ]
  },
  {
   "cell_type": "code",
   "execution_count": 1,
   "id": "c8b0f68e",
   "metadata": {
    "deletable": false,
    "editable": false,
    "slideshow": {
     "slide_type": ""
    },
    "tags": []
   },
   "outputs": [],
   "source": [
    "import numpy as np # https://numpy.org/ja/\n",
    "import pandas as pd # https://pandas.pydata.org/\n",
    "from sklearn.model_selection import train_test_split"
   ]
  },
  {
   "cell_type": "markdown",
   "id": "3ea86471-32fa-46c6-a005-ad6e1f7b7f72",
   "metadata": {
    "editable": true,
    "slideshow": {
     "slide_type": ""
    },
    "tags": []
   },
   "source": [
    "外部パッケージを使用する場合、以下の方法でインストールを実施してください。"
   ]
  },
  {
   "cell_type": "code",
   "execution_count": 2,
   "id": "6be8d1cd-7df7-4b10-aa1a-e24677b50d78",
   "metadata": {
    "editable": true,
    "slideshow": {
     "slide_type": ""
    },
    "tags": []
   },
   "outputs": [
    {
     "name": "stdout",
     "output_type": "stream",
     "text": [
      "Requirement already satisfied: pip in /usr/local/lib/python3.10/site-packages (23.3.1)\n",
      "Requirement already satisfied: opencv-python in /usr/local/lib/python3.10/site-packages (4.8.1.78)\n",
      "Requirement already satisfied: numpy>=1.21.2 in /usr/local/lib/python3.10/site-packages (from opencv-python) (1.26.1)\n",
      "Requirement already satisfied: scikit-image in /usr/local/lib/python3.10/site-packages (0.22.0)\n",
      "Requirement already satisfied: numpy>=1.22 in /usr/local/lib/python3.10/site-packages (from scikit-image) (1.26.1)\n",
      "Requirement already satisfied: scipy>=1.8 in /usr/local/lib/python3.10/site-packages (from scikit-image) (1.11.3)\n",
      "Requirement already satisfied: networkx>=2.8 in /usr/local/lib/python3.10/site-packages (from scikit-image) (3.2.1)\n",
      "Requirement already satisfied: pillow>=9.0.1 in /usr/local/lib/python3.10/site-packages (from scikit-image) (10.0.1)\n",
      "Requirement already satisfied: imageio>=2.27 in /usr/local/lib/python3.10/site-packages (from scikit-image) (2.32.0)\n",
      "Requirement already satisfied: tifffile>=2022.8.12 in /usr/local/lib/python3.10/site-packages (from scikit-image) (2023.9.26)\n",
      "Requirement already satisfied: packaging>=21 in /Users/shimomayudai/Library/Python/3.10/lib/python/site-packages (from scikit-image) (23.2)\n",
      "Requirement already satisfied: lazy_loader>=0.3 in /usr/local/lib/python3.10/site-packages (from scikit-image) (0.3)\n"
     ]
    }
   ],
   "source": [
    "# 必要な外部パッケージは、以下の内容を編集しインストールしてください\n",
    "# !pip install keras\n",
    "# !pip install tensorflow[and-cuda]\n",
    "!python3.10 -m pip install --upgrade pip\n",
    "!pip install opencv-python\n",
    "!pip install scikit-image\n",
    "\n",
    "from sklearn.tree import DecisionTreeClassifier\n",
    "from sklearn.metrics import accuracy_score"
   ]
  },
  {
   "cell_type": "code",
   "execution_count": 3,
   "id": "cda6ad7e-8e26-4208-bdbd-3fa37e79c82c",
   "metadata": {
    "editable": true,
    "slideshow": {
     "slide_type": ""
    },
    "tags": []
   },
   "outputs": [],
   "source": [
    "import cv2\n",
    "import re\n",
    "import numpy as np\n",
    "import pandas as pd\n",
    "import pickle\n",
    "from skimage.feature.texture import graycomatrix, graycoprops\n",
    "from sklearn.ensemble import RandomForestClassifier\n",
    "\n",
    "# 1, 基本統計量を計算\n",
    "def calculate_statistics(array):\n",
    "    array = np.array(array)\n",
    "    stats = {\n",
    "        'stat_mean': np.mean(array),\n",
    "        'stat_std': np.std(array),\n",
    "        'stat_median': np.median(array),\n",
    "        'stat_min': np.min(array),\n",
    "        'stat_max': np.max(array)\n",
    "    }\n",
    "    return stats\n",
    "\n",
    "# 2, 画像テクスチャ特徴量を計算\n",
    "def calculate_texture_features(array):\n",
    "    glcm = graycomatrix(array, distances=[1], angles=[0], levels=256, symmetric=True, normed=True)\n",
    "    texture_features = {\n",
    "        'texture_feature_contrast': graycoprops(glcm, 'contrast')[0, 0],\n",
    "        'texture_feature_correlation': graycoprops(glcm, 'correlation')[0, 0],\n",
    "        'texture_feature_energy': graycoprops(glcm, 'energy')[0, 0],\n",
    "        'texture_feature_homogeneity': graycoprops(glcm, 'homogeneity')[0, 0]\n",
    "    }\n",
    "    return texture_features\n",
    "\n",
    "# 3, 形状特徴量を計算\n",
    "def scale_to_grayscale(array):\n",
    "    scaled_array = np.clip(array * 127.5, 0, 255).astype(np.uint8)\n",
    "    return scaled_array\n",
    "\n",
    "def calculate_shape_features(array):\n",
    "    grayscale = scale_to_grayscale(array)\n",
    "    edges = cv2.Canny(grayscale, 100, 200)\n",
    "    contours, hierarchy = cv2.findContours(edges, cv2.RETR_TREE, cv2.CHAIN_APPROX_SIMPLE)\n",
    "    shape_features = {'shape_feature_area': 0, 'shape_feature_perimeter': 0, 'shape_feature_complexity': 0}\n",
    "    for contour in contours:\n",
    "        area = cv2.contourArea(contour)\n",
    "        perimeter = cv2.arcLength(contour, True)\n",
    "        complexity = perimeter ** 2 / (4 * np.pi * area) if area > 0 else 0\n",
    "        shape_features['shape_feature_area'] += area\n",
    "        shape_features['shape_feature_perimeter'] += perimeter\n",
    "        shape_features['shape_feature_complexity'] += complexity\n",
    "    return shape_features\n",
    "\n",
    "# 4, フーリエ変換の計算\n",
    "def calculate_fourier_transform_features(array):\n",
    "    f_shift = np.fft.fftshift(np.fft.fft2(array))\n",
    "    magnitude_spectrum = 20 * np.log(np.abs(f_shift) + 1e-10)\n",
    "    features = {\n",
    "        'feature_mean': np.mean(magnitude_spectrum),\n",
    "        'feature_std': np.std(magnitude_spectrum),\n",
    "        'feature_median': np.median(magnitude_spectrum),\n",
    "        'feature_min': np.min(magnitude_spectrum),\n",
    "        'feature_max': np.max(magnitude_spectrum)\n",
    "    }\n",
    "    return features\n",
    "\n",
    "# 特徴量を適用する関数\n",
    "def apply_features(df):\n",
    "    df['waferMap_statistics'] = df['waferMap'].apply(calculate_statistics)\n",
    "    df['waferMap_texture_features'] = df['waferMap'].apply(lambda x: calculate_texture_features(np.array(x)))\n",
    "    df['waferMap_shape_features'] = df['waferMap'].apply(calculate_shape_features)\n",
    "    df['waferMap_fourier_features'] = df['waferMap'].apply(calculate_fourier_transform_features)\n",
    "    return df\n",
    "\n",
    "# 辞書形式の特徴量を展開する関数\n",
    "def expand_features(df, feature_column):\n",
    "    features_df = pd.DataFrame(df[feature_column].tolist(), index=df.index)\n",
    "    df = pd.concat([df.drop(columns=[feature_column]), features_df], axis=1)\n",
    "    return df\n",
    "\n",
    "# lotName から数値部分を抽出して整数に変換する関数\n",
    "def extract_number(lot_name):\n",
    "    numbers = re.findall(r'\\d+', lot_name)\n",
    "    return int(numbers[0]) if numbers else None\n",
    "\n",
    "# solution関数の更新\n",
    "# solution関数の更新\n",
    "def solution(x_test_df, train_df):\n",
    "    # 特徴量を適用\n",
    "    train_df = apply_features(train_df)\n",
    "    x_test_df = apply_features(x_test_df)\n",
    "\n",
    "    # 特徴量を展開\n",
    "    for feature in ['waferMap_statistics', 'waferMap_texture_features', 'waferMap_shape_features', 'waferMap_fourier_features']:\n",
    "        train_df = expand_features(train_df, feature)\n",
    "        x_test_df = expand_features(x_test_df, feature)\n",
    "\n",
    "    # lotName から数値部分を抽出して整数に変換\n",
    "    train_df['lotNumber'] = train_df['lotName'].apply(extract_number)\n",
    "    x_test_df['lotNumber'] = x_test_df['lotName'].apply(extract_number)\n",
    "\n",
    "    # 特徴量とターゲットの分離\n",
    "    X_train = train_df.drop(['failureType', 'waferMap', 'lotName'], axis=1)\n",
    "    y_train = train_df['failureType']\n",
    "\n",
    "    # モデルの訓練\n",
    "    model = RandomForestClassifier(random_state=42)\n",
    "    model.fit(X_train, y_train)\n",
    "\n",
    "    # テストデータでの予測\n",
    "    X_test = x_test_df.drop(['waferMap', 'lotName'], axis=1)\n",
    "    predictions = model.predict(X_test)\n",
    "\n",
    "    return pd.DataFrame({'failureType': predictions}, index=x_test_df.index)\n",
    "\n",
    "\n"
   ]
  },
  {
   "cell_type": "markdown",
   "metadata": {},
   "source": []
  },
  {
   "cell_type": "markdown",
   "id": "c70c20f4-f775-4d9d-90c7-a3b583584edd",
   "metadata": {
    "editable": true,
    "slideshow": {
     "slide_type": ""
    },
    "tags": []
   },
   "source": [
    "solution関数は以下のように活用され、平均精度を計算します。"
   ]
  },
  {
   "cell_type": "code",
   "execution_count": 4,
   "id": "04a31dda-7c8b-477e-9547-5c9db739f7f0",
   "metadata": {
    "deletable": false,
    "slideshow": {
     "slide_type": ""
    },
    "tags": []
   },
   "outputs": [
    {
     "name": "stdout",
     "output_type": "stream",
     "text": [
      "平均精度：73.47%\n",
      "1min 31s ± 0 ns per loop (mean ± std. dev. of 1 run, 1 loop each)\n"
     ]
    }
   ],
   "source": [
    "%%timeit -r 1 -n 1\n",
    "\n",
    "# データのインポート\n",
    "df=pd.read_pickle(\"../input/LSWMD_25519.pkl\")\n",
    "\n",
    "# テスト用と学習用のデータを作成（テストする際は、random_stateの値などを編集してみてください）\n",
    "train_df, test_df = train_test_split(df, stratify=df['failureType'], test_size=0.10, random_state=42)\n",
    "\n",
    "y_test_df = test_df[['failureType']]\n",
    "x_test_df = test_df.drop(columns=['failureType'])\n",
    "\n",
    "# solution関数を実行\n",
    "user_result_df = solution(x_test_df, train_df)\n",
    "\n",
    "average_accuracy = 0\n",
    "# ユーザーの提出物のフォーマット確認\n",
    "if type(y_test_df) == type(user_result_df) and y_test_df.shape == user_result_df.shape:\n",
    "    # 平均精度の計算\n",
    "    accuracies = {}\n",
    "    for failure_type in df['failureType'].unique():\n",
    "        y_test_df_by_failure_type = y_test_df[y_test_df['failureType'] == failure_type]\n",
    "        user_result_df_by_failure_type = user_result_df[y_test_df['failureType'] == failure_type]\n",
    "        matching_rows = (y_test_df_by_failure_type == user_result_df_by_failure_type).all(axis=1).sum()\n",
    "        accuracies[failure_type] = (matching_rows/(len(y_test_df_by_failure_type)))\n",
    "    \n",
    "    average_accuracy = sum(accuracies.values())/len(accuracies)\n",
    "\n",
    "print(f\"平均精度：{average_accuracy*100:.2f}%\")"
   ]
  }
 ],
 "metadata": {
  "kernelspec": {
   "display_name": "Python 3 (ipykernel)",
   "language": "python",
   "name": "python3"
  },
  "language_info": {
   "codemirror_mode": {
    "name": "ipython",
    "version": 3
   },
   "file_extension": ".py",
   "mimetype": "text/x-python",
   "name": "python",
   "nbconvert_exporter": "python",
   "pygments_lexer": "ipython3",
   "version": "3.10.13"
  }
 },
 "nbformat": 4,
 "nbformat_minor": 5
}
