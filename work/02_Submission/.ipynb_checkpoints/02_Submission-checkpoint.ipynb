{
 "cells": [
  {
   "cell_type": "code",
   "execution_count": null,
   "id": "0dcf8cbf-ad8c-4f26-8b99-625533390b00",
   "metadata": {},
   "outputs": [],
   "source": [
    "# 評価方法\n",
    "\n",
    "準備中！"
   ]
  }
 ],
 "metadata": {
  "kernelspec": {
   "display_name": "Python 3 (ipykernel)",
   "language": "python",
   "name": "python3"
  },
  "language_info": {
   "codemirror_mode": {
    "name": "ipython",
    "version": 3
   },
   "file_extension": ".py",
   "mimetype": "text/x-python",
   "name": "python",
   "nbconvert_exporter": "python",
   "pygments_lexer": "ipython3",
   "version": "3.11.6"
  }
 },
 "nbformat": 4,
 "nbformat_minor": 5
}
